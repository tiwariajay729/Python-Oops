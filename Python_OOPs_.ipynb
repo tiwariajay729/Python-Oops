{
  "nbformat": 4,
  "nbformat_minor": 0,
  "metadata": {
    "colab": {
      "provenance": []
    },
    "kernelspec": {
      "name": "python3",
      "display_name": "Python 3"
    },
    "language_info": {
      "name": "python"
    }
  },
  "cells": [
    {
      "cell_type": "markdown",
      "source": [
        "Q1 - What is Object-Oriented Programming (OOP)?"
      ],
      "metadata": {
        "id": "tksqZYf0eCFr"
      }
    },
    {
      "cell_type": "markdown",
      "source": [
        "Ans 1: Object-Oriented Programming (OOP) is a programming paradigm based on the concept of \"objects,\" which can contain data (attributes or properties) and code (methods or functions). OOP is designed to improve code organization, reusability, and scalability by modeling real-world entities.\n",
        "\n",
        "Key Concepts of OOP\n",
        "\n",
        "Classes & Objects\n",
        "\n",
        "A class is a blueprint for creating objects. It defines attributes (data) and methods (functions) that describe an object’s behavior.\n",
        "An object is an instance of a class.\n",
        "\n",
        "Encapsulation\n",
        "\n",
        "Encapsulation is the bundling of data (attributes) and methods into a single unit (class).\n",
        "It restricts direct access to some of the object’s details, providing controlled access through methods.\n",
        "\n",
        "Inheritance\n",
        "\n",
        "Inheritance allows a class (child class) to inherit attributes and methods from another class (parent class).\n",
        "Promotes code reuse and establishes a hierarchy.\n",
        "\n",
        "Polymorphism\n",
        "\n",
        "The ability of different objects to be treated as instances of the same class through a common interface.\n",
        "Example: A function or method can work with different data types or objects.\n",
        "\n",
        "Abstraction\n",
        "\n",
        "Hides complex implementation details and only exposes essential features.\n",
        "Helps simplify code and improve maintainability."
      ],
      "metadata": {
        "id": "N8BNt4ILfJCv"
      }
    },
    {
      "cell_type": "markdown",
      "source": [
        "Q2 - What is a class in OOP?"
      ],
      "metadata": {
        "id": "r8ZLbwoqeGrL"
      }
    },
    {
      "cell_type": "markdown",
      "source": [
        "Ans 2: A class in Object-Oriented Programming (OOP) is a blueprint or template for creating objects. It defines attributes (data) and methods (functions) that describe an object’s behavior.\n",
        "\n",
        "Key Features of a Class\n",
        "Encapsulation: A class bundles data and methods into a single unit.\n",
        "Reusability: Once defined, a class can be used to create multiple objects.\n",
        "Abstraction: A class hides unnecessary details and provides a simple interface.\n"
      ],
      "metadata": {
        "id": "D1P53DiBgIaE"
      }
    },
    {
      "cell_type": "markdown",
      "source": [
        "Q3 - What is an object in OOP?"
      ],
      "metadata": {
        "id": "Vjai2f1hhA94"
      }
    },
    {
      "cell_type": "markdown",
      "source": [
        "Ans 3 - In Object-Oriented Programming (OOP), an object is an instance of a class that encapsulates data (attributes) and behaviors (methods). It represents a real-world entity with specific characteristics and functionalities.\n",
        "\n",
        "Key Characteristics of an Object:\n",
        "\n",
        "State (Attributes/Properties) – Data stored in the object (e.g., name, age, color).\n",
        "Behavior (Methods/Functions) – Actions the object can perform (e.g., walk, run, calculate).\n",
        "Identity – A unique reference that distinguishes it from other objects."
      ],
      "metadata": {
        "id": "I8ofqPwPhGYL"
      }
    },
    {
      "cell_type": "markdown",
      "source": [
        "Q4 - What is the difference between abstraction and encapsulation?"
      ],
      "metadata": {
        "id": "9V_jkKPNhs4S"
      }
    },
    {
      "cell_type": "markdown",
      "source": [
        "Ans 4 -\n",
        "Abstraction and encapsulation are both fundamental concepts in object-oriented programming (OOP), but they serve different purposes:\n",
        "\n",
        "Abstraction\n",
        "Definition: Hides the implementation details and only exposes the essential features of an object.\n",
        "Purpose: Simplifies complex systems by providing a clear and simplified interface.\n",
        "\n",
        "Encapsulation\n",
        "Definition: Restricts direct access to certain details of an object and only allows modification through controlled interfaces (getters/setters).\n",
        "Purpose: Protects data integrity and hides the internal state of an object."
      ],
      "metadata": {
        "id": "UFjsPyMYhyJv"
      }
    },
    {
      "cell_type": "markdown",
      "source": [
        "Q5 - What are dunder methods in Python?"
      ],
      "metadata": {
        "id": "7qu6ejAgiT5m"
      }
    },
    {
      "cell_type": "markdown",
      "source": [
        "Ans 5 - Dunder methods (short for \"double underscore\" methods) in Python are special methods that have a double underscore prefix and suffix, such as __init__, __str__, and __repr__. These methods allow you to define how objects of a class behave in various situations.\n",
        "\n",
        "Some common dunder methods are:\n",
        "\n",
        "__init__(self, ...): The constructor method. It’s called when a new object of the class is created.\n",
        "\n",
        "__str__(self): Defines the string representation of the object. It’s used by the str() function or when printing the object.\n",
        "\n",
        "__repr__(self): Defines the \"formal\" string representation of the object, mainly used for debugging. It’s what you get when you call repr() or inspect the object in an interpreter.\n",
        "\n",
        "__add__(self, other): Defines the behavior for the addition operator (+).\n",
        "\n",
        "__len__(self): Returns the length of an object when len() is called.\n",
        "\n",
        "__getitem__(self, key): Defines behavior for indexing (obj[key]).\n",
        "\n",
        "__setitem__(self, key, value): Defines behavior for setting values using indexing (obj[key] = value).\n",
        "\n",
        "__delitem__(self, key): Defines behavior for deleting an item via indexing (del obj[key]).\n",
        "\n",
        "These dunder methods let you customize built-in operations (like addition, string conversion, comparisons, etc.) to suit the behavior you want for your custom objects."
      ],
      "metadata": {
        "id": "pYqT3TWriWax"
      }
    },
    {
      "cell_type": "markdown",
      "source": [
        "Q6 - Explain the concept of inheritance in OOP?"
      ],
      "metadata": {
        "id": "Rvc1MrkEitfV"
      }
    },
    {
      "cell_type": "markdown",
      "source": [
        "Ans 6 - Inheritance in Object-Oriented Programming (OOP) is a mechanism where a new class (called a subclass or child class) is based on an existing class (called a superclass or parent class).\n",
        "\n",
        "The subclass inherits the attributes (fields) and behaviors (methods) of the parent class, allowing it to reuse and extend the functionality of the parent class.\n",
        "\n",
        "Key points about inheritance in OOP:\n",
        "\n",
        "Reusability: Inheritance allows code reuse. The child class can access the parent class’s methods and properties without needing to rewrite them.\n",
        "Extensibility: The child class can extend or override methods of the parent class, enabling more specific or refined behavior.\n",
        "Hierarchical Structure: Inheritance promotes a hierarchical relationship between classes. A subclass is a more specific version of its parent class, which could be more general.\n",
        "Access Modifiers: In some OOP languages, you can control how the inherited methods and properties are accessed (e.g., private, public, or protected)."
      ],
      "metadata": {
        "id": "t653NEwCi0r9"
      }
    },
    {
      "cell_type": "markdown",
      "source": [
        "Q7 - What is polymorphism in OOP?"
      ],
      "metadata": {
        "id": "5ieWCoZIj9Gw"
      }
    },
    {
      "cell_type": "markdown",
      "source": [
        "Ans 7 - Polymorphism in Object-Oriented Programming (OOP) is the ability of different objects to respond to the same method or function call in different ways. It allows objects of different classes to be treated as objects of a common superclass, typically through inheritance or interfaces, but with each class providing its own implementation of the method."
      ],
      "metadata": {
        "id": "u9-C55GQj_Zd"
      }
    },
    {
      "cell_type": "markdown",
      "source": [
        "Q8 - How is encapsulation achieved in Python?\n"
      ],
      "metadata": {
        "id": "wyA2rShVkO74"
      }
    },
    {
      "cell_type": "markdown",
      "source": [
        "Ans 8 - Encapsulation in Python is achieved by restricting access to certain attributes and methods of a class, protecting the internal state of the object from direct modification. It helps maintain the integrity of the data and allows controlled access to it."
      ],
      "metadata": {
        "id": "g3AEAn5kklRR"
      }
    },
    {
      "cell_type": "markdown",
      "source": [
        "Q9 - What is a constructor in Python?"
      ],
      "metadata": {
        "id": "aE1xX2n7ktic"
      }
    },
    {
      "cell_type": "markdown",
      "source": [
        "Ans 9 - In Python, a constructor is a special method used to initialize an object when a class is instantiated. It's typically defined using the __init__ method in a class. The __init__ method is called automatically when a new instance (object) of the class is created, allowing you to set the initial state of the object by assigning values to its attributes."
      ],
      "metadata": {
        "id": "GTpnA1WxlAT5"
      }
    },
    {
      "cell_type": "markdown",
      "source": [
        "Q10 - What are class and static methods in Python?"
      ],
      "metadata": {
        "id": "ZBG_j4zFlMGJ"
      }
    },
    {
      "cell_type": "markdown",
      "source": [
        "Ans 10 - In Python, class methods and static methods are types of methods that belong to a class, but they are used differently. Here’s a breakdown of each:\n",
        "\n",
        "Class Method\n",
        "Definition: A class method is a method that is bound to the class rather than the instance of the class. It takes the class itself as its first argument (usually named cls).\n",
        "Usage: Class methods are often used for factory methods, where you might need to create instances of the class in a special way or modify class-level attributes.\n",
        "\n",
        "Static Method\n",
        "Definition: A static method is a method that does not take any reference to the class or instance as its first argument. It behaves like a normal function that belongs to the class namespace, but it doesn't have access to the class or instance itself.\n",
        "Usage: Static methods are useful when you need a method that is related to the class but does not need to access or modify class or instance variables."
      ],
      "metadata": {
        "id": "rjElGiuplaPE"
      }
    },
    {
      "cell_type": "markdown",
      "source": [
        "Q11 - What is method overloading in Python?"
      ],
      "metadata": {
        "id": "2pI_BVozmtp3"
      }
    },
    {
      "cell_type": "markdown",
      "source": [
        "Ans 11 - Method overloading in Python refers to the ability to define multiple methods with the same name but different parameters (e.g., a different number or type of arguments). However, Python does not support traditional method overloading like some other languages (e.g., Java or C++), where you can define multiple methods with the same name but different signatures directly.\n",
        "\n",
        "In Python, method overloading can be simulated by using default argument values or variable-length argument lists (*args and **kwargs). When you define a method, you can specify different behaviors based on the number or type of arguments passed."
      ],
      "metadata": {
        "id": "Jg0xhoramxZe"
      }
    },
    {
      "cell_type": "markdown",
      "source": [
        "Q12 - What is method overriding in OOP?"
      ],
      "metadata": {
        "id": "jWTvH-4nnH3v"
      }
    },
    {
      "cell_type": "markdown",
      "source": [
        "Ans 12- Method overriding in Object-Oriented Programming (OOP) occurs when a subclass provides a specific implementation for a method that is already defined in its superclass. The method in the subclass has the same name, return type, and parameters as the method in the superclass.\n",
        "\n",
        "The key points about method overriding are:\n",
        "\n",
        "Same Signature: The method in the subclass must have the same method signature as the one in the parent class (same name, parameters, and return type).\n",
        "\n",
        "Behavior Change: The overriding method in the subclass is intended to change or extend the behavior of the method defined in the superclass.\n",
        "\n",
        "Runtime Polymorphism: Overriding supports runtime polymorphism. This means that the method that gets called is determined at runtime, based on the object’s actual class (not the reference type)."
      ],
      "metadata": {
        "id": "weSkV0YgnNMz"
      }
    },
    {
      "cell_type": "markdown",
      "source": [
        "Q13 - What is a property decorator in Python?"
      ],
      "metadata": {
        "id": "Rn37lry5nnlm"
      }
    },
    {
      "cell_type": "markdown",
      "source": [
        "Ans 13 - A property decorator in Python is used to define a method as a property of a class. It allows you to define methods that can be accessed like attributes, without directly exposing them as attributes.\n",
        "\n",
        "This is useful when you want to add additional logic when getting or setting a value, such as validation or computation, but still want to use the attribute-like syntax.\n",
        "\n",
        "You typically use @property to define the getter, and @<property_name>.setter to define the setter for the property."
      ],
      "metadata": {
        "id": "dlaY2n-mnt41"
      }
    },
    {
      "cell_type": "markdown",
      "source": [
        "Q14 - Why is polymorphism important in OOP?"
      ],
      "metadata": {
        "id": "pPrL9wJUoT6x"
      }
    },
    {
      "cell_type": "markdown",
      "source": [
        "Ans 14 - Polymorphism is a core concept in Object-Oriented Programming (OOP) because it allows objects of different classes to be treated as objects of a common superclass. This provides several key benefits:\n",
        "\n",
        "Code Reusability: Polymorphism enables code that works with objects of a superclass to also work with objects of any subclass, making it more flexible and reusable. This is especially useful when working with collections or arrays of objects, where you don’t need to know the specific type of object, just that it implements a certain interface or inherits from a common class.\n",
        "\n",
        "Simplified Code: By allowing the same method to behave differently depending on the object it is acting upon, polymorphism reduces the need for complex conditionals (like if or switch statements). This results in cleaner, more maintainable code.\n",
        "\n",
        "Extensibility: With polymorphism, new classes can be added to a system without modifying existing code. As long as the new class adheres to the same interface or inheritance structure, the existing code that uses polymorphism will automatically work with the new class.\n",
        "\n",
        "Decoupling: Polymorphism helps reduce the coupling between components of a system. For instance, a method might call a method on an object without knowing its exact class. This leads to greater flexibility and easier changes to the system over time.\n",
        "\n",
        "Dynamic Behavior: Polymorphism allows for dynamic method resolution (dynamic dispatch), where the method that gets called is determined at runtime based on the actual object, rather than at compile time. This makes OOP systems more flexible and adaptable.\n",
        "\n",
        "In summary, polymorphism allows for cleaner, more maintainable, and flexible code, making it a fundamental feature in OOP."
      ],
      "metadata": {
        "id": "yKNYTHIppYT9"
      }
    },
    {
      "cell_type": "markdown",
      "source": [
        "Q15 -What is an abstract class in Python?"
      ],
      "metadata": {
        "id": "3couLAx0ncJ_"
      }
    },
    {
      "cell_type": "markdown",
      "source": [
        "Ans 15 - An abstract class in Python is a class that cannot be instantiated directly. It serves as a blueprint for other classes. Abstract classes are defined using the abc module (which stands for Abstract Base Classes). The main purpose of an abstract class is to provide a common interface for other classes, ensuring that they implement specific methods."
      ],
      "metadata": {
        "id": "bE1yerrLpzWH"
      }
    },
    {
      "cell_type": "markdown",
      "source": [
        "Q16 -What are the advantages of OOP?"
      ],
      "metadata": {
        "id": "sqQj6gJPqG1Y"
      }
    },
    {
      "cell_type": "markdown",
      "source": [
        "Ans 16 - Object-Oriented Programming (OOP) offers several advantages that can make code more efficient, maintainable, and scalable. Here are the key benefits:\n",
        "\n",
        "Modularity: OOP encourages organizing code into distinct, reusable classes. This makes the code more modular, meaning that you can update or modify a class without affecting the rest of the system.\n",
        "\n",
        "Encapsulation: Data and functions are bundled together in classes, and access to the data can be restricted using access modifiers (like private or public). This reduces complexity and enhances data security.\n",
        "\n",
        "Inheritance: OOP allows classes to inherit properties and behaviors from other classes, facilitating code reuse. This can minimize redundancy and make it easier to create and maintain relationships between different classes.\n",
        "\n",
        "Polymorphism: This allows different classes to be treated as instances of the same class through inheritance, making code more flexible and easier to extend. Methods in different classes can have the same name but behave differently depending on the object.\n",
        "\n",
        "Abstraction: OOP enables abstraction, meaning that you can expose only essential details to the outside world while hiding implementation details. This reduces complexity by focusing on high-level concepts and interactions.\n",
        "\n",
        "Maintainability: Since OOP focuses on modular, reusable code, it makes maintaining and updating software easier. Changes made to one class generally don't affect others, reducing the chance of bugs.\n",
        "\n",
        "Scalability: OOP systems are often easier to scale because new features or objects can be added without disrupting the existing system. Classes can be extended, and polymorphism can ensure new functionalities fit within the existing architecture.\n",
        "\n",
        "Easier Troubleshooting and Debugging: With clear boundaries between objects and their responsibilities, it’s easier to isolate and troubleshoot issues in your code. Errors are often localized to specific objects or methods.\n",
        "\n",
        "Real-world Modeling: OOP makes it easier to model real-world systems because objects in code often represent real-world entities. This natural mapping can make the development process more intuitive.\n",
        "\n",
        "These advantages make OOP a widely-used paradigm, especially in large, complex systems where flexibility, scalability, and maintainability are key priorities."
      ],
      "metadata": {
        "id": "-S_GkL0uqIX-"
      }
    },
    {
      "cell_type": "markdown",
      "source": [
        "Q17 - What is the difference between a class variable and an instance variable?"
      ],
      "metadata": {
        "id": "32ILPXwmqYir"
      }
    },
    {
      "cell_type": "markdown",
      "source": [
        "Ans 17 - In object-oriented programming (OOP), class variables and instance variables are both used to store data, but they have different scopes and behaviors.\n",
        "\n",
        "Class Variable:\n",
        "\n",
        "Belongs to the class itself, not any specific instance.\n",
        "It is shared across all instances of the class. This means that if one instance modifies the class variable, all other instances will see that change.\n",
        "Defined outside of methods, usually at the top of the class.\n",
        "\n",
        "Instance Variable:\n",
        "\n",
        "Belongs to a specific instance of the class.\n",
        "Each instance of the class has its own copy of the instance variable.\n",
        "Defined inside the __init__ method (or other instance methods), and is typically prefixed with self."
      ],
      "metadata": {
        "id": "3Y3K9e7WqlDv"
      }
    },
    {
      "cell_type": "markdown",
      "source": [
        "Q18 - What is multiple inheritance in Python?"
      ],
      "metadata": {
        "id": "Dd7hWzTLq0Us"
      }
    },
    {
      "cell_type": "markdown",
      "source": [
        "Ans 18 - In Python, multiple inheritance refers to the ability of a class to inherit from more than one parent class. This allows a subclass to inherit methods and attributes from multiple base classes, combining functionality from all of them.\n",
        "\n",
        "Key Points:\n",
        "Method Resolution Order (MRO): When a method is called on a subclass, Python uses the MRO to determine the order in which the parent classes are checked for the method. This is important in multiple inheritance to avoid ambiguity in method lookup.\n",
        "Diamond Problem: This is a situation that arises in multiple inheritance, where two base classes inherit from a common ancestor, and the subclass inherits from both base classes. Python resolves this problem using the C3 Linearization algorithm (MRO)."
      ],
      "metadata": {
        "id": "Nr0c8ZFqq3kE"
      }
    },
    {
      "cell_type": "markdown",
      "source": [
        "Q19 - Explain the purpose of ‘’__str__’ and ‘__repr__’ ‘ methods in Python?"
      ],
      "metadata": {
        "id": "VTm1Sn9NrLFa"
      }
    },
    {
      "cell_type": "markdown",
      "source": [
        "Ans 19 - In Python, __str__ and __repr__ are special methods used to define how objects of a class are represented as strings. They serve different purposes, and knowing how to use them helps with debugging and presenting information in a user-friendly or developer-friendly way.\n",
        "\n",
        "__str__\n",
        "\n",
        "Purpose: The __str__ method is intended to return a string that is user-friendly and easy to understand. It’s used by functions like print() and str().\n",
        "When it's used: When you want to provide a readable or pretty representation of an object, typically for display purposes.\n",
        "\n",
        "__repr__\n",
        "\n",
        "Purpose: The __repr__ method is meant to return a string that gives an unambiguous or detailed representation of the object, ideally one that could be used to recreate the object using eval(). This method is used in the interpreter and by functions like repr().\n",
        "When it's used: Primarily for debugging, logging, and when the object is displayed in the Python shell or logged in more technical contexts."
      ],
      "metadata": {
        "id": "dNP_HkogrO5L"
      }
    },
    {
      "cell_type": "markdown",
      "source": [
        "Q20 - What is the significance of the ‘super()’ function in Python?"
      ],
      "metadata": {
        "id": "_CPosCIZrc49"
      }
    },
    {
      "cell_type": "markdown",
      "source": [
        "Ans20 - In Python, the super() function is used to call a method from a parent class (also known as a superclass) from within a subclass. It is mainly used in the context of inheritance, allowing you to call methods and access properties of the parent class without explicitly naming it. This is especially helpful when dealing with multiple inheritance, as it makes the code more maintainable and prevents redundant method calls.\n",
        "\n",
        "Key uses of super():\n",
        "Calling Parent Class Methods: If a method is overridden in a subclass but you still want to call the parent class’s version of the method, you can use super() to do so.\n",
        "\n",
        "Multiple Inheritance: super() helps to manage multiple inheritance by ensuring that the methods from all parent classes are called in the correct order.\n",
        "\n",
        "Accessing Parent Class Attributes: You can use super() to access parent class attributes that have been overridden in the subclass.\n",
        "\n",
        "Benefits of super():\n",
        "\n",
        "Avoids Hardcoding Class Names: You don’t need to directly reference the class name of the parent class. This makes the code easier to modify and maintain.\n",
        "Supports Multiple Inheritance: Helps in ensuring the correct method resolution order (MRO) in cases of multiple inheritance.\n",
        "\n",
        "In summary, super() is essential for accessing methods or attributes from a parent class in an elegant and maintainable way. It helps to follow the DRY (Don’t Repeat Yourself) principle, especially when dealing with inheritance."
      ],
      "metadata": {
        "id": "ZFXN6jOIriE8"
      }
    },
    {
      "cell_type": "markdown",
      "source": [
        "Q21 - What is the significance of the __del__ method in Python?"
      ],
      "metadata": {
        "id": "l0f_0uE4uJn4"
      }
    },
    {
      "cell_type": "markdown",
      "source": [
        "Ans 21 - In Python, the __del__ method is a special method known as a destructor. It is called when an object is about to be destroyed or deallocated, which typically happens when there are no more references to the object and it is garbage collected.\n",
        "\n",
        "The main significance of the __del__ method is to allow for clean-up operations, such as releasing resources like file handles, network connections, or database connections, when the object is no longer needed."
      ],
      "metadata": {
        "id": "_6O2cofSu5FY"
      }
    },
    {
      "cell_type": "markdown",
      "source": [
        "Q22 - What is the difference between @staticmethod and @classmethod in Python?"
      ],
      "metadata": {
        "id": "WxZCjhGPvAwq"
      }
    },
    {
      "cell_type": "markdown",
      "source": [
        "Ans 22 - In Python, both @staticmethod and @classmethod are decorators used to define methods that are not bound to an instance of the class, but they differ in how they operate:\n",
        "\n",
        "@staticmethod:\n",
        "A static method does not take the instance (self) or the class (cls) as its first argument.\n",
        "It behaves like a regular function but belongs to the class's namespace.\n",
        "It cannot modify the class state or instance state because it doesn't have access to either.\n",
        "It is used when you want to define a method that doesn't need access to any instance-specific data or class-specific data but still logically belongs to the class.\n",
        "\n",
        "@classmethod:\n",
        "A class method takes the class (cls) as its first argument, not the instance (self).\n",
        "It can modify the class state (class variables) and access class-level methods and attributes.\n",
        "It is typically used when the method needs to know about the class and not just the individual instance.\n",
        "\n",
        "Summary of differences:\n",
        "@staticmethod does not access class or instance data and is independent of both.\n",
        "@classmethod has access to the class itself and can modify class-level attributes."
      ],
      "metadata": {
        "id": "OQHWYdWYvEK5"
      }
    },
    {
      "cell_type": "markdown",
      "source": [
        "Q23 - How does polymorphism work in Python with inheritance?"
      ],
      "metadata": {
        "id": "pDDG-BZewAuo"
      }
    },
    {
      "cell_type": "markdown",
      "source": [
        "Ans 23 - Polymorphism in Python, especially when combined with inheritance, refers to the ability of different classes to define methods that share the same name but can behave differently based on the class that calls them. This allows you to use the same method name across different classes, but the specific method behavior depends on the class that is invoked.\n",
        "\n",
        "In Python, polymorphism works primarily through method overriding and duck typing.\n",
        "\n",
        "In summary, polymorphism in Python enables you to call methods on objects of different types in a consistent manner, either by method overriding (inherited behavior) or by duck typing (objects that behave similarly)."
      ],
      "metadata": {
        "id": "EYVJh2kgwBTs"
      }
    },
    {
      "cell_type": "markdown",
      "source": [
        "Q24 - What is method chaining in Python OOP?"
      ],
      "metadata": {
        "id": "zlAmwNYrzOG3"
      }
    },
    {
      "cell_type": "markdown",
      "source": [
        "Ans 24 - Method chaining in Python (and other Object-Oriented Programming languages) refers to a technique where multiple methods are called on the same object in a single line of code. Each method call returns the object itself, allowing the next method to be called immediately after. This creates a \"chain\" of method calls.\n",
        "\n",
        "For method chaining to work, each method in the chain must return the object (self), or another object that supports further method calls."
      ],
      "metadata": {
        "id": "F3ryiEA5zgci"
      }
    },
    {
      "cell_type": "markdown",
      "source": [
        "Q25 - What is the purpose of the __call__ method in Python?"
      ],
      "metadata": {
        "id": "FHgv-BucziAA"
      }
    },
    {
      "cell_type": "markdown",
      "source": [
        "Ans 25 - In Python, the __call__ method allows an instance of a class to be called like a function. When you define __call__ in a class, you can create objects that behave like functions, meaning you can \"call\" instances of that class with parentheses, just like you would with a regular function.\n",
        "\n",
        "This method is commonly used when you want an object to be callable with arguments, for example, when you want to customize how the object behaves when invoked, or create callable objects like functors."
      ],
      "metadata": {
        "id": "DrAWxMUjzpLw"
      }
    },
    {
      "cell_type": "markdown",
      "source": [
        "Set2"
      ],
      "metadata": {
        "id": "L3ohdhEtzR4c"
      }
    },
    {
      "cell_type": "markdown",
      "source": [
        "Q1. Create a parent class Animal with a method speak() that prints a generic message. Create a child class Dog that overrides the speak() method to print \"Bark!\"."
      ],
      "metadata": {
        "id": "65vHhtqn0AmP"
      }
    },
    {
      "cell_type": "code",
      "source": [
        "class Animal:\n",
        "    def speak(self):\n",
        "        print(\"Animal makes a sound\")\n",
        "\n",
        "class Dog(Animal):\n",
        "    def speak(self):\n",
        "        print(\"Bark!\")\n",
        "\n",
        "animal = Animal()\n",
        "animal.speak()  # Output: Animal makes a sound\n",
        "\n",
        "dog = Dog()\n",
        "dog.speak()  # Output: Bark!"
      ],
      "metadata": {
        "colab": {
          "base_uri": "https://localhost:8080/"
        },
        "id": "7lf6Rj6r0JzA",
        "outputId": "9d945062-06f4-40a8-a536-f713e43a5223"
      },
      "execution_count": 1,
      "outputs": [
        {
          "output_type": "stream",
          "name": "stdout",
          "text": [
            "Animal makes a sound\n",
            "Bark!\n"
          ]
        }
      ]
    },
    {
      "cell_type": "markdown",
      "source": [
        "Q2 Write a program to create an abstract class Shape with a method area(). Derive classes Circle and Rectangle from it and implement the area() method in both?"
      ],
      "metadata": {
        "id": "kdmIlIqpz-Cc"
      }
    },
    {
      "cell_type": "code",
      "source": [
        "from abc import ABC, abstractmethod\n",
        "import math\n",
        "\n",
        "# Abstract class Shape\n",
        "class Shape(ABC):\n",
        "    @abstractmethod\n",
        "    def area(self):\n",
        "        pass\n",
        "\n",
        "# Circle class derived from Shape\n",
        "class Circle(Shape):\n",
        "    def __init__(self, radius):\n",
        "        self.radius = radius\n",
        "\n",
        "    def area(self):\n",
        "        return math.pi * (self.radius ** 2)\n",
        "\n",
        "# Rectangle class derived from Shape\n",
        "class Rectangle(Shape):\n",
        "    def __init__(self, width, height):\n",
        "        self.width = width\n",
        "        self.height = height\n",
        "\n",
        "    def area(self):\n",
        "        return self.width * self.height\n",
        "\n",
        "# Example usage\n",
        "circle = Circle(5)\n",
        "rectangle = Rectangle(4, 6)\n",
        "\n",
        "print(f\"Area of the circle: {circle.area()}\")\n",
        "print(f\"Area of the rectangle: {rectangle.area()}\")"
      ],
      "metadata": {
        "colab": {
          "base_uri": "https://localhost:8080/"
        },
        "id": "wS6ffzeZ0jKF",
        "outputId": "9171b468-c689-4783-9fa1-39f4d66a5de2"
      },
      "execution_count": 2,
      "outputs": [
        {
          "output_type": "stream",
          "name": "stdout",
          "text": [
            "Area of the circle: 78.53981633974483\n",
            "Area of the rectangle: 24\n"
          ]
        }
      ]
    },
    {
      "cell_type": "markdown",
      "source": [
        "Q3 -  Implement a multi-level inheritance scenario where a class Vehicle has an attribute type. Derive a class Car and further derive a class ElectricCar that adds a battery attribute."
      ],
      "metadata": {
        "id": "wBEPAKG10_ZT"
      }
    },
    {
      "cell_type": "code",
      "source": [
        "# Base class Vehicle\n",
        "class Vehicle:\n",
        "    def __init__(self, type):\n",
        "        self.type = type\n",
        "\n",
        "    def display_type(self):\n",
        "        print(f\"Vehicle type: {self.type}\")\n",
        "\n",
        "# Derived class Car\n",
        "class Car(Vehicle):\n",
        "    def __init__(self, type, brand):\n",
        "        super().__init__(type)  # Call the constructor of Vehicle\n",
        "        self.brand = brand\n",
        "\n",
        "    def display_brand(self):\n",
        "        print(f\"Car brand: {self.brand}\")\n",
        "\n",
        "# Further derived class ElectricCar\n",
        "class ElectricCar(Car):\n",
        "    def __init__(self, type, brand, battery_capacity):\n",
        "        super().__init__(type, brand)  # Call the constructor of Car\n",
        "        self.battery_capacity = battery_capacity\n",
        "\n",
        "    def display_battery(self):\n",
        "        print(f\"Battery capacity: {self.battery_capacity} kWh\")\n",
        "\n",
        "# Creating an instance of ElectricCar\n",
        "electric_car = ElectricCar(\"Electric\", \"Tesla\", 75)\n",
        "\n",
        "# Accessing methods from all levels of inheritance\n",
        "electric_car.display_type()  # From Vehicle class\n",
        "electric_car.display_brand()  # From Car class\n",
        "electric_car.display_battery()  # From ElectricCar class"
      ],
      "metadata": {
        "colab": {
          "base_uri": "https://localhost:8080/"
        },
        "id": "eR8NIl6x1DPE",
        "outputId": "fa41c4b5-2f24-4753-81cf-dad4b35073d9"
      },
      "execution_count": 3,
      "outputs": [
        {
          "output_type": "stream",
          "name": "stdout",
          "text": [
            "Vehicle type: Electric\n",
            "Car brand: Tesla\n",
            "Battery capacity: 75 kWh\n"
          ]
        }
      ]
    },
    {
      "cell_type": "markdown",
      "source": [
        "Q4. Implement a multi-level inheritance scenario where a class Vehicle has an attribute type. Derive a class Car and further derive a class ElectricCar that adds a battery attribute."
      ],
      "metadata": {
        "id": "Gjq05b8p1PEw"
      }
    },
    {
      "cell_type": "code",
      "source": [
        "# Base class: Vehicle\n",
        "class Vehicle:\n",
        "    def __init__(self, vehicle_type):\n",
        "        self.vehicle_type = vehicle_type\n",
        "\n",
        "    def display_info(self):\n",
        "        print(f\"Vehicle Type: {self.vehicle_type}\")\n",
        "\n",
        "\n",
        "# Derived class: Car\n",
        "class Car(Vehicle):\n",
        "    def __init__(self, vehicle_type, brand, model):\n",
        "        # Calling the constructor of the base class Vehicle\n",
        "        super().__init__(vehicle_type)\n",
        "        self.brand = brand\n",
        "        self.model = model\n",
        "\n",
        "    def display_info(self):\n",
        "        # Displaying information specific to Car\n",
        "        super().display_info()\n",
        "        print(f\"Brand: {self.brand}\")\n",
        "        print(f\"Model: {self.model}\")\n",
        "\n",
        "\n",
        "# Further derived class: ElectricCar\n",
        "class ElectricCar(Car):\n",
        "    def __init__(self, vehicle_type, brand, model, battery_capacity):\n",
        "        # Calling the constructor of the base class Car\n",
        "        super().__init__(vehicle_type, brand, model)\n",
        "        self.battery_capacity = battery_capacity\n",
        "\n",
        "    def display_info(self):\n",
        "        # Displaying information specific to ElectricCar\n",
        "        super().display_info()\n",
        "        print(f\"Battery Capacity: {self.battery_capacity} kWh\")\n",
        "\n",
        "\n",
        "# Example usage\n",
        "electric_car = ElectricCar(\"Electric\", \"Tesla\", \"Model 3\", 75)\n",
        "electric_car.display_info()"
      ],
      "metadata": {
        "colab": {
          "base_uri": "https://localhost:8080/"
        },
        "id": "OTbA7pIi1Sh2",
        "outputId": "55cdaa6b-0cad-44f9-c43d-db9c44c80087"
      },
      "execution_count": 4,
      "outputs": [
        {
          "output_type": "stream",
          "name": "stdout",
          "text": [
            "Vehicle Type: Electric\n",
            "Brand: Tesla\n",
            "Model: Model 3\n",
            "Battery Capacity: 75 kWh\n"
          ]
        }
      ]
    },
    {
      "cell_type": "markdown",
      "source": [
        "Q5 -  Write a program to demonstrate encapsulation by creating a class BankAccount with private attributes balance and methods to deposit, withdraw, and check balance."
      ],
      "metadata": {
        "id": "bK6pInik1zK3"
      }
    },
    {
      "cell_type": "code",
      "source": [
        "class BankAccount:\n",
        "    def __init__(self, initial_balance=0):\n",
        "        self.__balance = initial_balance  # Private attribute\n",
        "\n",
        "    def deposit(self, amount):\n",
        "        if amount > 0:\n",
        "            self.__balance += amount\n",
        "            print(f\"Deposited Rs.{amount}. New balance: Rs.{self.__balance}\")\n",
        "        else:\n",
        "            print(\"Deposit amount must be greater than 0.\")\n",
        "\n",
        "    def withdraw(self, amount):\n",
        "        if 0 < amount <= self.__balance:\n",
        "            self.__balance -= amount\n",
        "            print(f\"Withdrew Rs.{amount}. New balance: Rs.{self.__balance}\")\n",
        "        else:\n",
        "            print(\"Insufficient funds or invalid withdrawal amount.\")\n",
        "\n",
        "    def check_balance(self):\n",
        "        print(f\"Current balance: Rs.{self.__balance}\")\n",
        "\n",
        "# Testing the BankAccount class\n",
        "account = BankAccount(100)\n",
        "account.deposit(50)\n",
        "account.withdraw(30)\n",
        "account.check_balance()"
      ],
      "metadata": {
        "colab": {
          "base_uri": "https://localhost:8080/"
        },
        "id": "tfrhjkqa15-j",
        "outputId": "9fc866e8-029c-4a57-fbb7-d80887328048"
      },
      "execution_count": 7,
      "outputs": [
        {
          "output_type": "stream",
          "name": "stdout",
          "text": [
            "Deposited Rs.50. New balance: Rs.150\n",
            "Withdrew Rs.30. New balance: Rs.120\n",
            "Current balance: Rs.120\n"
          ]
        }
      ]
    },
    {
      "cell_type": "markdown",
      "source": [
        "Q6 - Demonstrate runtime polymorphism using a method play() in a base class Instrument. Derive classes Guitar and Piano that implement their own version of play()?"
      ],
      "metadata": {
        "id": "r_vGkQDm2VWn"
      }
    },
    {
      "cell_type": "code",
      "source": [
        "class Instrument:\n",
        "    def play(self):\n",
        "        raise NotImplementedError(\"Subclass must implement abstract method\")\n",
        "\n",
        "class Guitar(Instrument):\n",
        "    def play(self):\n",
        "        return \"Strumming the guitar!\"\n",
        "\n",
        "class Piano(Instrument):\n",
        "    def play(self):\n",
        "        return \"Playing the piano keys!\"\n",
        "\n",
        "# Function to demonstrate runtime polymorphism\n",
        "def demonstrate_play(instrument: Instrument):\n",
        "    print(instrument.play())\n",
        "\n",
        "# Create instances of Guitar and Piano\n",
        "guitar = Guitar()\n",
        "piano = Piano()\n",
        "\n",
        "# Demonstrate runtime polymorphism\n",
        "demonstrate_play(guitar)\n",
        "demonstrate_play(piano)"
      ],
      "metadata": {
        "colab": {
          "base_uri": "https://localhost:8080/"
        },
        "id": "zpJdT0HY2Z85",
        "outputId": "548981da-c98d-4204-9637-f6d3d8f400c2"
      },
      "execution_count": 8,
      "outputs": [
        {
          "output_type": "stream",
          "name": "stdout",
          "text": [
            "Strumming the guitar!\n",
            "Playing the piano keys!\n"
          ]
        }
      ]
    },
    {
      "cell_type": "markdown",
      "source": [
        "Q7 - Create a class MathOperations with a class method add_numbers() to add two numbers and a static method subtract_numbers() to subtract two numbers?"
      ],
      "metadata": {
        "id": "RdYYDrvX2k7l"
      }
    },
    {
      "cell_type": "code",
      "source": [
        "class MathOperations:\n",
        "\n",
        "    @classmethod\n",
        "    def add_numbers(cls, num1, num2):\n",
        "        return num1 + num2\n",
        "\n",
        "    @staticmethod\n",
        "    def subtract_numbers(num1, num2):\n",
        "        return num1 - num2\n"
      ],
      "metadata": {
        "id": "ooAjkbT3CMtQ"
      },
      "execution_count": 16,
      "outputs": []
    },
    {
      "cell_type": "code",
      "source": [
        "result_add = MathOperations.add_numbers(5, 3)\n",
        "result_subtract = MathOperations.subtract_numbers(5, 3)\n",
        "\n",
        "print(result_add)\n",
        "print(result_subtract)"
      ],
      "metadata": {
        "colab": {
          "base_uri": "https://localhost:8080/"
        },
        "id": "EPd-68bw22g2",
        "outputId": "1d836137-ca23-4eb0-bcb7-0279b43e64e1"
      },
      "execution_count": 17,
      "outputs": [
        {
          "output_type": "stream",
          "name": "stdout",
          "text": [
            "8\n",
            "2\n"
          ]
        }
      ]
    },
    {
      "cell_type": "markdown",
      "source": [
        "Q8. Implement a class Person with a class method to count the total number of persons created"
      ],
      "metadata": {
        "id": "QH0l_Cu03JoM"
      }
    },
    {
      "cell_type": "code",
      "source": [
        "class Person:\n",
        "    # Class variable to keep track of the total number of persons\n",
        "    total_persons = 0\n",
        "\n",
        "    def __init__(self, name, age):\n",
        "        self.name = name\n",
        "        self.age = age\n",
        "        # Increment the total_persons counter each time a new instance is created\n",
        "        Person.total_persons += 1\n",
        "\n",
        "    # Class method to get the total number of persons created\n",
        "    @classmethod\n",
        "    def get_total_persons(cls):\n",
        "        return cls.total_persons\n",
        "\n",
        "# Example usage:\n",
        "person1 = Person(\"Alice\", 30)\n",
        "person2 = Person(\"Bob\", 25)\n",
        "\n",
        "print(Person.get_total_persons())"
      ],
      "metadata": {
        "colab": {
          "base_uri": "https://localhost:8080/"
        },
        "id": "G9vlHVFh3NEz",
        "outputId": "095ae894-49f2-48ae-98f3-f474f727639e"
      },
      "execution_count": 18,
      "outputs": [
        {
          "output_type": "stream",
          "name": "stdout",
          "text": [
            "2\n"
          ]
        }
      ]
    },
    {
      "cell_type": "markdown",
      "source": [
        "Q9 - Write a class Fraction with attributes numerator and denominator. Override the str method to display the fraction as \"numerator/denominator\"."
      ],
      "metadata": {
        "id": "7Y0i7FjXCpfR"
      }
    },
    {
      "cell_type": "code",
      "source": [
        "class Fraction:\n",
        "    def __init__(self, numerator, denominator):\n",
        "        self.numerator = numerator\n",
        "        self.denominator = denominator\n",
        "\n",
        "    def __str__(self):\n",
        "        return f\"{self.numerator}/{self.denominator}\"\n",
        "\n",
        "# Example usage:\n",
        "fraction = Fraction(3, 4)\n",
        "print(fraction)"
      ],
      "metadata": {
        "colab": {
          "base_uri": "https://localhost:8080/"
        },
        "id": "RuMWHOwVCrKw",
        "outputId": "20acf120-7b36-4c2e-a387-59833224e1a2"
      },
      "execution_count": 19,
      "outputs": [
        {
          "output_type": "stream",
          "name": "stdout",
          "text": [
            "3/4\n"
          ]
        }
      ]
    },
    {
      "cell_type": "markdown",
      "source": [
        "Q 10. Demonstrate operator overloading by creating a class Vector and overriding the add method to add two vectors?"
      ],
      "metadata": {
        "id": "FSoOL4rYDGDi"
      }
    },
    {
      "cell_type": "code",
      "source": [
        "class Vector:\n",
        "    def __init__(self, x, y):\n",
        "        self.x = x\n",
        "        self.y = y\n",
        "\n",
        "    def __add__(self, other):\n",
        "        # Overloading the + operator to add two vectors\n",
        "        if isinstance(other, Vector):\n",
        "            return Vector(self.x + other.x, self.y + other.y)\n",
        "        else:\n",
        "            raise TypeError(\"Operands must be instances of the Vector class.\")\n",
        "\n",
        "    def __repr__(self):\n",
        "        return f\"Vector({self.x}, {self.y})\"\n",
        "\n",
        "\n",
        "# Example usage:\n",
        "v1 = Vector(1, 2)\n",
        "v2 = Vector(3, 4)\n",
        "v3 = v1 + v2\n",
        "\n",
        "print(v3)"
      ],
      "metadata": {
        "colab": {
          "base_uri": "https://localhost:8080/"
        },
        "id": "S21yuU0cDTk5",
        "outputId": "e3ff5850-0d5b-4bb5-87a5-c5e12e12cd85"
      },
      "execution_count": 21,
      "outputs": [
        {
          "output_type": "stream",
          "name": "stdout",
          "text": [
            "Vector(4, 6)\n"
          ]
        }
      ]
    },
    {
      "cell_type": "markdown",
      "source": [
        "Q11. Create a class Person with attributes name and age. Add a method greet() that prints \"Hello, my name is {name} and I am {age} years old.\""
      ],
      "metadata": {
        "id": "jJhr7JhdDhRu"
      }
    },
    {
      "cell_type": "code",
      "source": [
        "class Person:\n",
        "    def __init__(self, name, age):\n",
        "        self.name = name\n",
        "        self.age = age\n",
        "\n",
        "    def greet(self):\n",
        "        print(f\"Hello, my name is {self.name} and I am {self.age} years old.\")"
      ],
      "metadata": {
        "id": "4pv0DQk1DqoF"
      },
      "execution_count": 22,
      "outputs": []
    },
    {
      "cell_type": "code",
      "source": [
        "person = Person(\"Alice\", 30)\n",
        "person.greet()"
      ],
      "metadata": {
        "colab": {
          "base_uri": "https://localhost:8080/"
        },
        "id": "CLtsnZeFDvIF",
        "outputId": "0cf0c4b2-459b-450f-963e-5d41eaa40b2a"
      },
      "execution_count": 23,
      "outputs": [
        {
          "output_type": "stream",
          "name": "stdout",
          "text": [
            "Hello, my name is Alice and I am 30 years old.\n"
          ]
        }
      ]
    },
    {
      "cell_type": "markdown",
      "source": [
        "Q12. Implement a class Student with attributes name and grades. Create a method average_grade() to compute the average of the grades."
      ],
      "metadata": {
        "id": "JNJ3uc0sD1Sg"
      }
    },
    {
      "cell_type": "code",
      "source": [
        "class Student:\n",
        "    def __init__(self, name, grades):\n",
        "        self.name = name\n",
        "        self.grades = grades\n",
        "\n",
        "    def average_grade(self):\n",
        "        return sum(self.grades) / len(self.grades) if self.grades else 0\n",
        "\n",
        "# Example usage\n",
        "student = Student(\"John Doe\", [85, 90, 78, 92])\n",
        "print(f\"Average grade of {student.name}: {student.average_grade()}\")"
      ],
      "metadata": {
        "colab": {
          "base_uri": "https://localhost:8080/"
        },
        "id": "I-bY08TlD64z",
        "outputId": "5028de82-f766-4777-88dc-aacfdbf1fa4a"
      },
      "execution_count": 24,
      "outputs": [
        {
          "output_type": "stream",
          "name": "stdout",
          "text": [
            "Average grade of John Doe: 86.25\n"
          ]
        }
      ]
    },
    {
      "cell_type": "markdown",
      "source": [
        "Q13. Create a class Rectangle with methods set_dimensions() to set the dimensions and area() to calculate the area."
      ],
      "metadata": {
        "id": "C9UCOwdvEISX"
      }
    },
    {
      "cell_type": "code",
      "source": [
        "class Rectangle:\n",
        "    def __init__(self):\n",
        "        self.width = 0\n",
        "        self.height = 0\n",
        "\n",
        "    def set_dimensions(self, width, height):\n",
        "        self.width = width\n",
        "        self.height = height\n",
        "\n",
        "    def area(self):\n",
        "        return self.width * self.height\n",
        "\n",
        "# Example usage:\n",
        "rect = Rectangle()\n",
        "rect.set_dimensions(5, 3)\n",
        "print(\"Area of rectangle:\", rect.area())"
      ],
      "metadata": {
        "colab": {
          "base_uri": "https://localhost:8080/"
        },
        "id": "FoGvKAjtELFd",
        "outputId": "86a2b248-1789-4ea8-ca27-a0172f8f5a01"
      },
      "execution_count": 25,
      "outputs": [
        {
          "output_type": "stream",
          "name": "stdout",
          "text": [
            "Area of rectangle: 15\n"
          ]
        }
      ]
    },
    {
      "cell_type": "markdown",
      "source": [
        "Q14. Create a class Employee with a method calculate_salary() that computes the salary based on hours worked and hourly rate. Create a derived class Manager that adds a bonus to the salary."
      ],
      "metadata": {
        "id": "YL2GbfJ8EhfJ"
      }
    },
    {
      "cell_type": "code",
      "source": [
        "class Employee:\n",
        "    def __init__(self, name, hours_worked, hourly_rate):\n",
        "        self.name = name\n",
        "        self.hours_worked = hours_worked\n",
        "        self.hourly_rate = hourly_rate\n",
        "\n",
        "    def calculate_salary(self):\n",
        "        # Salary is calculated as hours worked * hourly rate\n",
        "        return self.hours_worked * self.hourly_rate\n",
        "\n",
        "# Derived class\n",
        "class Manager(Employee):\n",
        "    def __init__(self, name, hours_worked, hourly_rate, bonus):\n",
        "        super().__init__(name, hours_worked, hourly_rate)\n",
        "        self.bonus = bonus\n",
        "\n",
        "    def calculate_salary(self):\n",
        "        # Manager's salary is base salary + bonus\n",
        "        base_salary = super().calculate_salary()\n",
        "        return base_salary + self.bonus\n",
        "\n",
        "# Example usage\n",
        "employee = Employee(\"John Doe\", 160, 20)  # 160 hours worked, $20 per hour\n",
        "manager = Manager(\"Jane Smith\", 160, 30, 2000)  # 160 hours worked, $30 per hour, $2000 bonus\n",
        "\n",
        "print(f\"{employee.name}'s salary: ${employee.calculate_salary()}\")\n",
        "print(f\"{manager.name}'s salary (with bonus): ${manager.calculate_salary()}\")"
      ],
      "metadata": {
        "colab": {
          "base_uri": "https://localhost:8080/"
        },
        "id": "4gG_eikPEo1h",
        "outputId": "b5160e8f-7ce3-410f-bb6b-e98dfe1827df"
      },
      "execution_count": 26,
      "outputs": [
        {
          "output_type": "stream",
          "name": "stdout",
          "text": [
            "John Doe's salary: $3200\n",
            "Jane Smith's salary (with bonus): $6800\n"
          ]
        }
      ]
    },
    {
      "cell_type": "markdown",
      "source": [
        "Q15 - Create a class Product with attributes name, price, and quantity. Implement a method total_price() that calculates the total price of the product."
      ],
      "metadata": {
        "id": "UprCAuYLG2Gk"
      }
    },
    {
      "cell_type": "code",
      "source": [
        "class Product:\n",
        "    def __init__(self, name, price, quantity):\n",
        "        self.name = name\n",
        "        self.price = price\n",
        "        self.quantity = quantity\n",
        "\n",
        "    def total_price(self):\n",
        "        return self.price * self.quantity\n",
        "\n",
        "# Example usage\n",
        "product = Product(\"Laptop\", 1000, 3)\n",
        "print(f\"The total price of {product.name} is: ${product.total_price()}\")"
      ],
      "metadata": {
        "id": "dXC_rgkFG2xe"
      },
      "execution_count": null,
      "outputs": []
    },
    {
      "cell_type": "markdown",
      "source": [
        "Q16 - Create a class Animal with an abstract method sound(). Create two derived classes Cow and Sheep that implement the sound() method."
      ],
      "metadata": {
        "id": "8GYVpFXJG-kN"
      }
    },
    {
      "cell_type": "code",
      "source": [
        "from abc import ABC, abstractmethod\n",
        "\n",
        "# Abstract base class\n",
        "class Animal(ABC):\n",
        "    @abstractmethod\n",
        "    def sound(self):\n",
        "        pass\n",
        "\n",
        "# Derived class Cow\n",
        "class Cow(Animal):\n",
        "    def sound(self):\n",
        "        return \"Moo\"\n",
        "\n",
        "# Derived class Sheep\n",
        "class Sheep(Animal):\n",
        "    def sound(self):\n",
        "        return \"Baa\"\n",
        "\n",
        "# Example usage:\n",
        "cow = Cow()\n",
        "sheep = Sheep()\n",
        "\n",
        "print(cow.sound())  # Output: Moo\n",
        "print(sheep.sound())  # Output: Baa"
      ],
      "metadata": {
        "colab": {
          "base_uri": "https://localhost:8080/"
        },
        "id": "dFHLswb9HIdP",
        "outputId": "37e80208-b041-48e9-bb43-9445fe72d3b8"
      },
      "execution_count": 27,
      "outputs": [
        {
          "output_type": "stream",
          "name": "stdout",
          "text": [
            "Moo\n",
            "Baa\n"
          ]
        }
      ]
    },
    {
      "cell_type": "markdown",
      "source": [
        "Q17 Create a class Book with attributes title, author, and year_published. Add a method get_book_info() that returns a formatted string with the book's details."
      ],
      "metadata": {
        "id": "8q7OmU_aHVYE"
      }
    },
    {
      "cell_type": "code",
      "source": [
        "class Book:\n",
        "    def __init__(self, title, author, year_published):\n",
        "        self.title = title\n",
        "        self.author = author\n",
        "        self.year_published = year_published\n",
        "\n",
        "    def get_book_info(self):\n",
        "        return f\"Title: {self.title}\\nAuthor: {self.author}\\nYear Published: {self.year_published}\"\n",
        "\n",
        "# Example usage:\n",
        "book = Book(\"1984\", \"George Orwell\", 1949)\n",
        "print(book.get_book_info())"
      ],
      "metadata": {
        "colab": {
          "base_uri": "https://localhost:8080/"
        },
        "id": "sEJLmO9BHY6G",
        "outputId": "76256d5d-1cbd-48f3-b790-9e4eeff0fd5e"
      },
      "execution_count": 28,
      "outputs": [
        {
          "output_type": "stream",
          "name": "stdout",
          "text": [
            "Title: 1984\n",
            "Author: George Orwell\n",
            "Year Published: 1949\n"
          ]
        }
      ]
    },
    {
      "cell_type": "markdown",
      "source": [
        "Q18. Create a class House with attributes address and price. Create a derived class Mansion that adds an attribute number_of_rooms."
      ],
      "metadata": {
        "id": "rsHvFtPuHovB"
      }
    },
    {
      "cell_type": "code",
      "source": [
        "class House:\n",
        "    def __init__(self, address, price):\n",
        "        self.address = address\n",
        "        self.price = price\n",
        "\n",
        "    def display_info(self):\n",
        "        return f\"Address: {self.address}, Price: ${self.price}\"\n",
        "\n",
        "class Mansion(House):\n",
        "    def __init__(self, address, price, number_of_rooms):\n",
        "        super().__init__(address, price)\n",
        "        self.number_of_rooms = number_of_rooms\n",
        "\n",
        "    def display_info(self):\n",
        "        house_info = super().display_info()\n",
        "        return f\"{house_info}, Number of Rooms: {self.number_of_rooms}\"\n",
        "\n",
        "# Example Usage\n",
        "house = House(\"1234 Elm Street\", 300000)\n",
        "mansion = Mansion(\"5678 Maple Avenue\", 1500000, 10)\n",
        "\n",
        "print(house.display_info())\n",
        "print(mansion.display_info())"
      ],
      "metadata": {
        "colab": {
          "base_uri": "https://localhost:8080/"
        },
        "id": "BkxfQ3OfHphu",
        "outputId": "1ee1f4fa-8a60-41c7-bf87-1bc8a9259b91"
      },
      "execution_count": 29,
      "outputs": [
        {
          "output_type": "stream",
          "name": "stdout",
          "text": [
            "Address: 1234 Elm Street, Price: $300000\n",
            "Address: 5678 Maple Avenue, Price: $1500000, Number of Rooms: 10\n"
          ]
        }
      ]
    }
  ]
}